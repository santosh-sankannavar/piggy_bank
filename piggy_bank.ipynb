{
 "cells": [
  {
   "cell_type": "markdown",
   "metadata": {},
   "source": [
    "### Piggy Bank Software\n",
    "We should create a piigy bank application for school children to teach them importance of savings. They should have the option to :\n",
    "\n",
    "Add modeny\n",
    "withdraw money\n",
    "Check the current amount in the piggy bank\n",
    "### Assignment\n",
    "Develope an piggy bank application, which will work as per above instruction."
   ]
  },
  {
   "cell_type": "code",
   "execution_count": 5,
   "metadata": {},
   "outputs": [
    {
     "name": "stdout",
     "output_type": "stream",
     "text": [
      "Start or EndStart\n",
      "Add , Withdraw or Check: Add\n",
      "Add amount : 2000\n",
      "After adding, your updated balance is 2000 rupees\n",
      "Start or EndStart\n",
      "Add , Withdraw or Check: Withdraw\n",
      "Withdraw amount : 500\n",
      "After withdrawing, your updated balance is 1500 rupees\n",
      "Start or EndStart\n",
      "Add , Withdraw or Check: Check\n",
      "Your current balance is 1500\n",
      "Start or EndEnd\n"
     ]
    }
   ],
   "source": [
    "Balance = 0\n",
    "\n",
    "def addMoney(value):\n",
    "    global Balance\n",
    "    val1=int(value)\n",
    "    Balance =  Balance + val1\n",
    "    print('After adding, your updated balance is {} rupees'.format(Balance))\n",
    "    return\n",
    "    \n",
    "    \n",
    "def withdrawMoney(value):\n",
    "    global Balance\n",
    "    val1=int(value)\n",
    "    Balance = Balance - val1\n",
    "    print('After withdrawing, your updated balance is {} rupees'.format(Balance))\n",
    "    return\n",
    "    \n",
    "def checkMoney():\n",
    "    global Balance\n",
    "    print('Your current balance is {}'.format(Balance))\n",
    "    return\n",
    "\n",
    "StartorEnd = input('Start or End')\n",
    "\n",
    "while (StartorEnd == 'Start'):\n",
    "    \n",
    "    mode = input('Add , Withdraw or Check: ')\n",
    "    \n",
    "    if mode == 'Add':\n",
    "        value = input('Add amount : ')\n",
    "        if value.isnumeric():\n",
    "            addMoney(value)\n",
    "        else:\n",
    "            print('Amount can be only numeric')\n",
    "\n",
    "    elif mode == 'Withdraw':\n",
    "        value = input('Withdraw amount : ')\n",
    "        if value.isnumeric():\n",
    "            withdrawMoney(int(value))\n",
    "        else:\n",
    "            print('Amount can be only numeric')\n",
    "            \n",
    "    elif mode == 'Check':\n",
    "        checkMoney()\n",
    "    else:\n",
    "        print('None')\n",
    "    StartorEnd = input('Start or End')"
   ]
  },
  {
   "cell_type": "code",
   "execution_count": null,
   "metadata": {},
   "outputs": [],
   "source": []
  }
 ],
 "metadata": {
  "kernelspec": {
   "display_name": "Python 3",
   "language": "python",
   "name": "python3"
  },
  "language_info": {
   "codemirror_mode": {
    "name": "ipython",
    "version": 3
   },
   "file_extension": ".py",
   "mimetype": "text/x-python",
   "name": "python",
   "nbconvert_exporter": "python",
   "pygments_lexer": "ipython3",
   "version": "3.7.0"
  }
 },
 "nbformat": 4,
 "nbformat_minor": 2
}
